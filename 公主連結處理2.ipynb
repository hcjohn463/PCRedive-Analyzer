{
 "cells": [
  {
   "cell_type": "code",
   "execution_count": 1,
   "metadata": {},
   "outputs": [
    {
     "name": "stdout",
     "output_type": "stream",
     "text": [
      "ヒヨリ（ニューイヤー）\n",
      "ジータ\n",
      "レイ\n",
      "クリスティーナ\n",
      "シズル（バレンタイン）\n"
     ]
    }
   ],
   "source": [
    "import pandas as pd\n",
    "data = pd.read_csv('timeData.csv')\n",
    "#change name\n",
    "data = data.rename(columns={\"Unnamed: 0\": \"Name\"})\n",
    "#NaN to 0\n",
    "data = data.fillna(0)\n",
    "#select team\n",
    "team = ['レイ','ヒヨリ（ニューイヤー）','ジータ','クリスティーナ','シズル（バレンタイン）']\n",
    "selectData = pd.DataFrame(columns = data.columns)\n",
    "#add select rows\n",
    "for i in range(data.shape[0]):\n",
    "    if data.loc[i][0] in team:\n",
    "        print(data.loc[i][0])\n",
    "        selectData.loc[i] = data.loc[i]\n",
    "#rename index\n",
    "selectData.index = [0,1,2,3,4]\n",
    "nameList = selectData['Name'].tolist()"
   ]
  },
  {
   "cell_type": "code",
   "execution_count": 2,
   "metadata": {},
   "outputs": [
    {
     "data": {
      "text/plain": [
       "['ヒヨリ（ニューイヤー）', 'ジータ', 'レイ', 'クリスティーナ', 'シズル（バレンタイン）']"
      ]
     },
     "execution_count": 2,
     "metadata": {},
     "output_type": "execute_result"
    }
   ],
   "source": [
    "nameList"
   ]
  },
  {
   "cell_type": "code",
   "execution_count": 3,
   "metadata": {},
   "outputs": [],
   "source": [
    "#skill name and time\n",
    "selectDict = {}\n",
    "noList = [0,'普通攻击']\n",
    "for i in range(selectData.shape[0]):\n",
    "    selectDict[nameList[i]] = list()\n",
    "    for j in range(1,selectData.shape[1]):\n",
    "        if selectData.loc[i][j] not in noList:\n",
    "            skill = selectData.loc[i][j]\n",
    "            time = selectData.columns[j]\n",
    "            selectDict[nameList[i]].append([skill,time])"
   ]
  },
  {
   "cell_type": "code",
   "execution_count": 4,
   "metadata": {},
   "outputs": [
    {
     "data": {
      "text/plain": [
       "{'ヒヨリ（ニューイヤー）': [['技能1：肉球チャージ', '1:24'],\n",
       "  ['技能2：グッドラックパンチ', '1:21'],\n",
       "  ['技能2：グッドラックパンチ', '1:12'],\n",
       "  ['技能1：肉球チャージ', '1:9'],\n",
       "  ['技能2：グッドラックパンチ', '1:2'],\n",
       "  ['技能1：肉球チャージ', '0:54'],\n",
       "  ['技能2：グッドラックパンチ', '0:42'],\n",
       "  ['技能2：グッドラックパンチ', '0:31'],\n",
       "  ['技能1：肉球チャージ', '0:28'],\n",
       "  ['技能2：グッドラックパンチ', '0:20'],\n",
       "  ['技能1：肉球チャージ', '0:13'],\n",
       "  ['技能2：グッドラックパンチ', '0:1']],\n",
       " 'ジータ': [['技能1：ワイドブレード', '1:24'],\n",
       "  ['技能2：ウェポンバースト', '1:20'],\n",
       "  ['技能1：ワイドブレード', '1:8'],\n",
       "  ['技能2：ウェポンバースト', '1:1'],\n",
       "  ['技能1：ワイドブレード', '0:51'],\n",
       "  ['技能2：ウェポンバースト', '0:43'],\n",
       "  ['技能1：ワイドブレード', '0:33'],\n",
       "  ['技能2：ウェポンバースト', '0:26'],\n",
       "  ['技能1：ワイドブレード', '0:15'],\n",
       "  ['技能2：ウェポンバースト', '0:8']],\n",
       " 'レイ': [['技能1：ウィンドスラスト', '1:21'],\n",
       "  ['技能2：カウンタースラッシュ', '1:18'],\n",
       "  ['技能1：ウィンドスラスト', '1:5'],\n",
       "  ['技能2：カウンタースラッシュ', '0:59'],\n",
       "  ['技能1：ウィンドスラスト', '0:47'],\n",
       "  ['技能2：カウンタースラッシュ', '0:41'],\n",
       "  ['技能1：ウィンドスラスト', '0:29'],\n",
       "  ['技能2：カウンタースラッシュ', '0:23'],\n",
       "  ['技能1：ウィンドスラスト', '0:11'],\n",
       "  ['技能2：カウンタースラッシュ', '0:5']],\n",
       " 'クリスティーナ': [['技能1：オーバーレイ', '1:24'],\n",
       "  ['技能2：インジェクション', '1:21'],\n",
       "  ['技能2：インジェクション', '1:12'],\n",
       "  ['技能1：オーバーレイ', '1:5'],\n",
       "  ['技能2：インジェクション', '1:2'],\n",
       "  ['技能2：インジェクション', '0:51'],\n",
       "  ['技能1：オーバーレイ', '0:48'],\n",
       "  ['技能2：インジェクション', '0:41'],\n",
       "  ['技能2：インジェクション', '0:34'],\n",
       "  ['技能1：オーバーレイ', '0:26'],\n",
       "  ['技能2：インジェクション', '0:23'],\n",
       "  ['技能2：インジェクション', '0:12'],\n",
       "  ['技能1：オーバーレイ', '0:9'],\n",
       "  ['技能2：インジェクション', '0:2']],\n",
       " 'シズル（バレンタイン）': [['技能2：セグメントハートショット', '1:24'],\n",
       "  ['技能1：キュアネスサイン', '1:16'],\n",
       "  ['技能2：セグメントハートショット', '1:7'],\n",
       "  ['技能1：キュアネスサイン', '1:4'],\n",
       "  ['技能2：セグメントハートショット', '0:52'],\n",
       "  ['技能1：キュアネスサイン', '0:45'],\n",
       "  ['技能2：セグメントハートショット', '0:37'],\n",
       "  ['技能1：キュアネスサイン', '0:34'],\n",
       "  ['技能2：セグメントハートショット', '0:22'],\n",
       "  ['技能1：キュアネスサイン', '0:15'],\n",
       "  ['技能2：セグメントハートショット', '0:6'],\n",
       "  ['技能1：キュアネスサイン', '0:4']]}"
      ]
     },
     "execution_count": 4,
     "metadata": {},
     "output_type": "execute_result"
    }
   ],
   "source": [
    "selectDict"
   ]
  },
  {
   "cell_type": "code",
   "execution_count": 5,
   "metadata": {},
   "outputs": [],
   "source": [
    "#Only skill time\n",
    "timeDict = {}\n",
    "for i, (key, value) in enumerate(selectDict.items()):\n",
    "    timeDict[nameList[i]] = list()\n",
    "    skills1 = []\n",
    "    skills2 = []\n",
    "    for j in range(len(value)):\n",
    "        if value[j][0][:3] == '技能1':\n",
    "            skills1.append(value[j][1])\n",
    "        else:\n",
    "            skills2.append(value[j][1])\n",
    "    timeDict[nameList[i]].append(skills1)\n",
    "    timeDict[nameList[i]].append(skills2)\n",
    "#         timeDict[nameList[i]].append(value[j][1])"
   ]
  },
  {
   "cell_type": "code",
   "execution_count": 6,
   "metadata": {},
   "outputs": [
    {
     "data": {
      "text/plain": [
       "{'ヒヨリ（ニューイヤー）': [['1:24', '1:9', '0:54', '0:28', '0:13'],\n",
       "  ['1:21', '1:12', '1:2', '0:42', '0:31', '0:20', '0:1']],\n",
       " 'ジータ': [['1:24', '1:8', '0:51', '0:33', '0:15'],\n",
       "  ['1:20', '1:1', '0:43', '0:26', '0:8']],\n",
       " 'レイ': [['1:21', '1:5', '0:47', '0:29', '0:11'],\n",
       "  ['1:18', '0:59', '0:41', '0:23', '0:5']],\n",
       " 'クリスティーナ': [['1:24', '1:5', '0:48', '0:26', '0:9'],\n",
       "  ['1:21', '1:12', '1:2', '0:51', '0:41', '0:34', '0:23', '0:12', '0:2']],\n",
       " 'シズル（バレンタイン）': [['1:16', '1:4', '0:45', '0:34', '0:15', '0:4'],\n",
       "  ['1:24', '1:7', '0:52', '0:37', '0:22', '0:6']]}"
      ]
     },
     "execution_count": 6,
     "metadata": {},
     "output_type": "execute_result"
    }
   ],
   "source": [
    "timeDict"
   ]
  },
  {
   "cell_type": "code",
   "execution_count": 7,
   "metadata": {},
   "outputs": [],
   "source": [
    "for i, (key, value) in enumerate(timeDict.items()):\n",
    "    for j in range(len(value)):\n",
    "        for k in range(len(value[j])):\n",
    "            value[j][k] = int(value[j][k].split(':')[0]) * 60 + int(value[j][k].split(':')[1])"
   ]
  },
  {
   "cell_type": "code",
   "execution_count": 8,
   "metadata": {},
   "outputs": [
    {
     "data": {
      "text/plain": [
       "{'ヒヨリ（ニューイヤー）': [[84, 69, 54, 28, 13], [81, 72, 62, 42, 31, 20, 1]],\n",
       " 'ジータ': [[84, 68, 51, 33, 15], [80, 61, 43, 26, 8]],\n",
       " 'レイ': [[81, 65, 47, 29, 11], [78, 59, 41, 23, 5]],\n",
       " 'クリスティーナ': [[84, 65, 48, 26, 9], [81, 72, 62, 51, 41, 34, 23, 12, 2]],\n",
       " 'シズル（バレンタイン）': [[76, 64, 45, 34, 15, 4], [84, 67, 52, 37, 22, 6]]}"
      ]
     },
     "execution_count": 8,
     "metadata": {},
     "output_type": "execute_result"
    }
   ],
   "source": [
    "timeDict"
   ]
  },
  {
   "cell_type": "code",
   "execution_count": 9,
   "metadata": {},
   "outputs": [],
   "source": [
    "gntTimeList = []\n",
    "for i, (key, value) in enumerate(timeDict.items()):\n",
    "    gntTimeList.append(value)"
   ]
  },
  {
   "cell_type": "code",
   "execution_count": 10,
   "metadata": {},
   "outputs": [
    {
     "data": {
      "text/plain": [
       "[[[84, 69, 54, 28, 13], [81, 72, 62, 42, 31, 20, 1]],\n",
       " [[84, 68, 51, 33, 15], [80, 61, 43, 26, 8]],\n",
       " [[81, 65, 47, 29, 11], [78, 59, 41, 23, 5]],\n",
       " [[84, 65, 48, 26, 9], [81, 72, 62, 51, 41, 34, 23, 12, 2]],\n",
       " [[76, 64, 45, 34, 15, 4], [84, 67, 52, 37, 22, 6]]]"
      ]
     },
     "execution_count": 10,
     "metadata": {},
     "output_type": "execute_result"
    }
   ],
   "source": [
    "gntTimeList"
   ]
  },
  {
   "cell_type": "code",
   "execution_count": 11,
   "metadata": {},
   "outputs": [],
   "source": [
    "#預設技能經過時間 1秒\n",
    "for i in range(len(gntTimeList)):\n",
    "    for j in range(len(gntTimeList[i])):\n",
    "        for k in range(len(gntTimeList[i][j])):\n",
    "            gntTimeList[i][j][k] = (gntTimeList[i][j][k],-1)"
   ]
  },
  {
   "cell_type": "code",
   "execution_count": 12,
   "metadata": {},
   "outputs": [],
   "source": [
    "import warnings\n",
    "warnings.filterwarnings(\"ignore\")"
   ]
  },
  {
   "cell_type": "code",
   "execution_count": 13,
   "metadata": {},
   "outputs": [],
   "source": [
    "import matplotlib.pyplot as plt\n",
    "plt.rcParams['font.sans-serif']=['SimHei'] #用来正常显示中文标签\n",
    "plt.rcParams['axes.unicode_minus']=False #用来正常显示负号"
   ]
  },
  {
   "cell_type": "code",
   "execution_count": 14,
   "metadata": {},
   "outputs": [
    {
     "data": {
      "text/plain": [
       "['ヒヨリ（ニューイヤー）', 'ジータ', 'レイ', 'クリスティーナ', 'シズル（バレンタイン）']"
      ]
     },
     "execution_count": 14,
     "metadata": {},
     "output_type": "execute_result"
    }
   ],
   "source": [
    "nameList"
   ]
  },
  {
   "cell_type": "code",
   "execution_count": null,
   "metadata": {},
   "outputs": [],
   "source": []
  },
  {
   "cell_type": "code",
   "execution_count": 15,
   "metadata": {},
   "outputs": [
    {
     "data": {
      "text/plain": [
       "['シズル（バレンタイン）', 'クリスティーナ', 'レイ', 'ジータ', 'ヒヨリ（ニューイヤー）', '-']"
      ]
     },
     "execution_count": 15,
     "metadata": {},
     "output_type": "execute_result"
    }
   ],
   "source": [
    "spaceList = nameList.copy()\n",
    "spaceList.reverse()\n",
    "spaceList.append('-')\n",
    "spaceList"
   ]
  },
  {
   "cell_type": "code",
   "execution_count": 26,
   "metadata": {},
   "outputs": [],
   "source": [
    "data = pd.read_csv('select.csv')\n",
    "data = data.drop(data.columns[0], axis=1)"
   ]
  },
  {
   "cell_type": "code",
   "execution_count": 27,
   "metadata": {},
   "outputs": [],
   "source": [
    "class Characeter:\n",
    "    def __init__(self,level):\n",
    "        self.level = level\n",
    "        self.hitPower = 0\n",
    "        self.hitTime = 0\n",
    "        self.hit = 0\n",
    "    def checkHit(self):\n",
    "        if self.hit:\n",
    "            self.hitTime -= 1\n",
    "            if self.hitTime > 0:\n",
    "                return 0\n",
    "            else:\n",
    "                self.hit = 0\n",
    "                return self.hitPower\n",
    "        else:\n",
    "            return 0\n",
    "        \n",
    "class Rei(Characeter):\n",
    "    def __init__(self,level):\n",
    "        super().__init__(level)\n",
    "        self.hitPower = 0.6 + 0.6 * self.level\n",
    "    def checkSkill(self,skill):\n",
    "        if skill == '技能1：ウィンドスラスト':\n",
    "            return self.up()\n",
    "        else:\n",
    "            return 0\n",
    "    def up(self):\n",
    "        if self.hit:\n",
    "            return 0\n",
    "        else:\n",
    "            self.hit = 1\n",
    "            self.hitTime = 12\n",
    "            return self.hitPower\n",
    "    \n",
    "class Christina(Characeter):\n",
    "    def __init__(self,level):\n",
    "        super().__init__(level)\n",
    "        self.hitPower = 0.6 + 0.6 * self.level\n",
    "    def checkSkill(self,skill):\n",
    "        if skill == '技能2：インジェクション':\n",
    "            return self.up()\n",
    "        else:\n",
    "            return 0\n",
    "    def up(self):\n",
    "        if self.hit:\n",
    "            return 0\n",
    "        else:\n",
    "            self.hit = 1\n",
    "            self.hitTime = 12\n",
    "            return self.hitPower\n",
    "    \n",
    "class ShizuruValentine(Characeter):\n",
    "    def __init__(self,level):\n",
    "        super().__init__(level)\n",
    "        self.hitPower = 0.15 + 0.15 * self.level\n",
    "    def checkSkill(self,skill):\n",
    "        if skill == '技能2：セグメントハートショット':\n",
    "            return self.up()\n",
    "        else:\n",
    "            return 0\n",
    "    def up(self):\n",
    "        if self.hit:\n",
    "            return 0\n",
    "        else:\n",
    "            self.hit = 1\n",
    "            self.hitTime = 12\n",
    "            return self.hitPower"
   ]
  },
  {
   "cell_type": "code",
   "execution_count": 28,
   "metadata": {},
   "outputs": [],
   "source": [
    "#Input\n",
    "level = 172\n",
    "a = Rei(level)\n",
    "b = Christina(level)\n",
    "c = ShizuruValentine(level)\n",
    "objList = [a,b,c]"
   ]
  },
  {
   "cell_type": "code",
   "execution_count": 29,
   "metadata": {},
   "outputs": [],
   "source": [
    "countList = []\n",
    "count = 0\n",
    "for j in range(data.shape[1]):\n",
    "    for i in range(data.shape[0]):\n",
    "        for obj in objList:\n",
    "            count += obj.checkSkill(data.loc[i][j])\n",
    "    for obj in objList:\n",
    "        count -= obj.checkHit()\n",
    "    countList.append(count)"
   ]
  },
  {
   "cell_type": "code",
   "execution_count": 30,
   "metadata": {},
   "outputs": [],
   "source": [
    "timeList = data.columns.tolist()\n",
    "timeList = timeList[1:]\n",
    "countList = countList[1:]"
   ]
  },
  {
   "cell_type": "code",
   "execution_count": 56,
   "metadata": {},
   "outputs": [
    {
     "data": {
      "image/png": "[encoded data removed]",
      "text/plain": [
       "<Figure size 1800x720 with 2 Axes>"
      ]
     },
     "metadata": {
      "needs_background": "light"
     },
     "output_type": "display_data"
    }
   ],
   "source": [
    "import matplotlib.pyplot as plt \n",
    "import numpy as np\n",
    "%matplotlib inline \n",
    "# Declaring a figure \"gnt\" \n",
    "fig, gnt = plt.subplots(figsize=(25,10)) \n",
    "\n",
    "plot = gnt.twinx()\n",
    "\n",
    "#plot.ylabel('破防量')\n",
    "\n",
    "plot.plot(my_x_ticks, hits)\n",
    "\n",
    "# Setting Y-axis limits \n",
    "gnt.set_ylim(0, 50) \n",
    "  \n",
    "# Setting X-axis limits\n",
    "\n",
    "my_x_ticks = np.arange(90, -1, -1)\n",
    "\n",
    "plt.xticks(my_x_ticks)\n",
    "\n",
    "gnt.set_xlim(90,0)\n",
    "  \n",
    "# Setting ticks on y-axis \n",
    "gnt.set_yticks([10, 20, 30, 40, 50, 60]) \n",
    "# Labelling tickes of y-axis \n",
    "gnt.axes.yaxis.set_ticklabels([])\n",
    "  \n",
    "# Setting graph attribute \n",
    "gnt.grid(True) \n",
    "  \n",
    "# Declaring a bar in schedule \n",
    "gnt.broken_barh(gntTimeList[0][0], (49, 2), facecolors =('#ff7f0e'))\n",
    "\n",
    "gnt.broken_barh(gntTimeList[0][1], (49, 2), facecolors =('#bcbd22'))\n",
    "\n",
    "gnt.broken_barh(gntTimeList[1][0], (39, 2), facecolors =('#ff7f0e'))\n",
    "\n",
    "gnt.broken_barh(gntTimeList[1][1], (39, 2), facecolors =('#bcbd22'))\n",
    "  \n",
    "gnt.broken_barh(gntTimeList[2][0], (29, 2), facecolors =('#ff7f0e'))\n",
    "\n",
    "gnt.broken_barh(gntTimeList[2][1], (29, 2), facecolors =('#bcbd22'))\n",
    "                 \n",
    "gnt.broken_barh(gntTimeList[3][0], (19, 2), facecolors =('#ff7f0e'))\n",
    "\n",
    "gnt.broken_barh(gntTimeList[3][1], (19, 2), facecolors =('#bcbd22'))\n",
    "    \n",
    "gnt.broken_barh(gntTimeList[4][0], (9, 2), facecolors =('#ff7f0e'))\n",
    "\n",
    "gnt.broken_barh(gntTimeList[4][1], (9, 2), facecolors =('#bcbd22'))\n",
    "\n",
    "hits = countList\n",
    "times = timeList\n",
    "plot.set_xlabel('剩餘時間') \n",
    "plot.set_ylabel('破防量')\n",
    "\n",
    "plt.savefig(\"combine.png\",bbox_inches='tight',\n",
    "            pad_inches=0,\n",
    "            format='png',\n",
    "            dpi=300)"
   ]
  }
 ],
 "metadata": {
  "kernelspec": {
   "display_name": "Python 3",
   "language": "python",
   "name": "python3"
  },
  "language_info": {
   "codemirror_mode": {
    "name": "ipython",
    "version": 3
   },
   "file_extension": ".py",
   "mimetype": "text/x-python",
   "name": "python",
   "nbconvert_exporter": "python",
   "pygments_lexer": "ipython3",
   "version": "3.7.1"
  }
 },
 "nbformat": 4,
 "nbformat_minor": 2
}
